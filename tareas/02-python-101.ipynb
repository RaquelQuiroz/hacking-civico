{
  "nbformat": 4,
  "nbformat_minor": 0,
  "metadata": {
    "colab": {
      "name": "Untitled0.ipynb",
      "provenance": [],
      "authorship_tag": "ABX9TyP/teIhDKieoPywEjeX4U7w",
      "include_colab_link": true
    },
    "kernelspec": {
      "name": "python3",
      "display_name": "Python 3"
    }
  },
  "cells": [
    {
      "cell_type": "markdown",
      "metadata": {
        "id": "view-in-github",
        "colab_type": "text"
      },
      "source": [
        "<a href=\"https://colab.research.google.com/github/RaquelQuiroz/hacking-civico/blob/master/tareas/02-python-101.ipynb\" target=\"_parent\"><img src=\"https://colab.research.google.com/assets/colab-badge.svg\" alt=\"Open In Colab\"/></a>"
      ]
    },
    {
      "cell_type": "code",
      "metadata": {
        "id": "m_wQ1VnW-O7h",
        "colab_type": "code",
        "colab": {}
      },
      "source": [
        ""
      ],
      "execution_count": null,
      "outputs": []
    },
    {
      "cell_type": "markdown",
      "metadata": {
        "id": "D-96tnnd-jpR",
        "colab_type": "text"
      },
      "source": [
        "**Número de habitantes**\n",
        "\n",
        "León 1 578 626\n",
        "\n",
        "Guanajuato 5 853 677\n",
        "\n",
        "México (2015) 119 530 753  \n",
        "\n",
        "**Superficie en Km**\n",
        "\n",
        "México 1 964 375 km2\n",
        "\n",
        "Guanajuato 30 607 km²\n",
        "\n",
        "León 1,220 km²\n"
      ]
    },
    {
      "cell_type": "code",
      "metadata": {
        "id": "63e_qplJ_Hnj",
        "colab_type": "code",
        "colab": {}
      },
      "source": [
        "def "
      ],
      "execution_count": null,
      "outputs": []
    }
  ]
}